{
 "cells": [
  {
   "cell_type": "markdown",
   "metadata": {},
   "source": [
    "# SkyScan Config\n",
    "Make temporary changes to a running SkyScan instance. It will revert back to the values in the environment file when restart."
   ]
  },
  {
   "cell_type": "code",
   "execution_count": null,
   "metadata": {},
   "outputs": [],
   "source": [
    "broker=\"mqtt\" # update with the IP for the Raspberry PI"
   ]
  },
  {
   "cell_type": "code",
   "execution_count": null,
   "metadata": {},
   "outputs": [],
   "source": [
    "import paho.mqtt.client as mqtt\n",
    "import json"
   ]
  },
  {
   "cell_type": "code",
   "execution_count": null,
   "metadata": {},
   "outputs": [],
   "source": [
    "client = mqtt.Client(\"notebook-config\")"
   ]
  },
  {
   "cell_type": "markdown",
   "metadata": {},
   "source": [
    "## Pin a Specific Aircraft\n",
    "This over-rides all other tracking logic and forces the camera to stare at a specific aircraft.\n",
    "\n",
    "Enter the ICAO ID (ADS-B ID) from the PiAware Map (< IP >:8080/dump1090-fa/)"
   ]
  },
  {
   "cell_type": "code",
   "execution_count": null,
   "metadata": {},
   "outputs": [],
   "source": [
    "client.connect(broker)\n",
    "data = {}\n",
    "data['aircraftPinned'] = \"ACA497\"  # Update this Value\n",
    "json_data = json.dumps(data)\n",
    "client.publish(\"skyscan/config/json\",json_data)"
   ]
  },
  {
   "cell_type": "markdown",
   "metadata": {},
   "source": [
    "## Camera Zoom\n",
    "This is how much the camera is zoomed in. It is an Int number between 0-9999 (max)"
   ]
  },
  {
   "cell_type": "code",
   "execution_count": null,
   "metadata": {},
   "outputs": [],
   "source": [
    "client.connect(broker)\n",
    "data = {}\n",
    "data['cameraZoom'] = 9999  # Update this Value\n",
    "json_data = json.dumps(data)\n",
    "client.publish(\"skyscan/config/json\",json_data)"
   ]
  },
  {
   "cell_type": "markdown",
   "metadata": {},
   "source": [
    "## Camera Delay\n",
    "Float value for the number of seconds to wait after sending the camera move API command, before sending the take picture API command."
   ]
  },
  {
   "cell_type": "code",
   "execution_count": null,
   "metadata": {},
   "outputs": [],
   "source": [
    "client.connect(broker)\n",
    "data = {}\n",
    "data['cameraDelay'] = 0.25  # Update this Value\n",
    "json_data = json.dumps(data)\n",
    "client.publish(\"skyscan/config/json\",json_data)"
   ]
  },
  {
   "cell_type": "markdown",
   "metadata": {},
   "source": [
    "## Camera Move Speed\n",
    "This is how fast the camea will move. It is an Int number between 0-99 (max)"
   ]
  },
  {
   "cell_type": "code",
   "execution_count": null,
   "metadata": {},
   "outputs": [],
   "source": [
    "client.connect(broker)\n",
    "data = {}\n",
    "data['cameraMoveSpeed'] = 99  # Update this Value\n",
    "json_data = json.dumps(data)\n",
    "client.publish(\"skyscan/config/json\",json_data)"
   ]
  },
  {
   "cell_type": "markdown",
   "metadata": {},
   "source": [
    "## Camera Lead\n",
    "This is how far the tracker should move the center point in front of the currently tracked plane. It is a float, and is measured in seconds, example: 0.25 . It is based on the planes current heading and how fast it is going. "
   ]
  },
  {
   "cell_type": "code",
   "execution_count": null,
   "metadata": {},
   "outputs": [],
   "source": [
    "client.connect(broker)\n",
    "data = {}\n",
    "data['cameraLead'] = 0.45  # Update this Value\n",
    "json_data = json.dumps(data)\n",
    "client.publish(\"skyscan/config/json\",json_data)"
   ]
  },
  {
   "cell_type": "code",
   "execution_count": null,
   "metadata": {},
   "outputs": [],
   "source": []
  },
  {
   "cell_type": "markdown",
   "metadata": {},
   "source": [
    "## Camera Bearing Correction\n",
    "This is a float to correct the cameras heading to help it better align with True North. It can be from -180 to 180. "
   ]
  },
  {
   "cell_type": "code",
   "execution_count": null,
   "metadata": {},
   "outputs": [],
   "source": [
    "client.connect(broker)\n",
    "data = {}\n",
    "data['cameraBearingCorrection'] = -2  # Update this Value\n",
    "json_data = json.dumps(data)\n",
    "client.publish(\"skyscan/config/json\",json_data)"
   ]
  },
  {
   "cell_type": "markdown",
   "metadata": {},
   "source": [
    "## Camera Elevation Correction\n",
    "This is a float to correct the cameras elevation to help it better level. It can be from -90 to 90. "
   ]
  },
  {
   "cell_type": "code",
   "execution_count": null,
   "metadata": {},
   "outputs": [],
   "source": [
    "client.connect(broker)\n",
    "data = {}\n",
    "data['cameraElevationCorrection'] = 0  # Update this Value\n",
    "json_data = json.dumps(data)\n",
    "client.publish(\"skyscan/config/json\",json_data)"
   ]
  },
  {
   "cell_type": "markdown",
   "metadata": {},
   "source": [
    "## Camera Altitude"
   ]
  },
  {
   "cell_type": "code",
   "execution_count": null,
   "metadata": {},
   "outputs": [],
   "source": [
    "client.connect(broker)\n",
    "data = {}\n",
    "data['cameraAltitude'] = -2  # Update this Value\n",
    "json_data = json.dumps(data)\n",
    "client.publish(\"skyscan/config/json\",json_data)"
   ]
  },
  {
   "cell_type": "markdown",
   "metadata": {},
   "source": [
    "## Minimum Elevation\n",
    "The minimum elevation above the horizon which the Tracker will follow an airplane. Int value between 0-90 degrees."
   ]
  },
  {
   "cell_type": "code",
   "execution_count": null,
   "metadata": {},
   "outputs": [],
   "source": [
    "client.connect(broker)\n",
    "data = {}\n",
    "data['minElevation'] = 0  # Update this Value\n",
    "json_data = json.dumps(data)\n",
    "client.publish(\"skyscan/config/json\",json_data)"
   ]
  },
  {
   "cell_type": "markdown",
   "metadata": {},
   "source": [
    "## Minimum Altitude\n",
    "The minimum altitude for an aircraft to be tracked. Int value in Meters"
   ]
  },
  {
   "cell_type": "code",
   "execution_count": null,
   "metadata": {},
   "outputs": [],
   "source": [
    "client.connect(broker)\n",
    "data = {}\n",
    "data['minAltitude'] = 0  # Update this Value\n",
    "json_data = json.dumps(data)\n",
    "client.publish(\"skyscan/config/json\",json_data)"
   ]
  },
  {
   "cell_type": "markdown",
   "metadata": {},
   "source": [
    "## Minimum Distance\n",
    "The minimum distance an aircraft needs to be from the camera in order to be tracked. Int value in Meters"
   ]
  },
  {
   "cell_type": "code",
   "execution_count": null,
   "metadata": {},
   "outputs": [],
   "source": [
    "client.connect(broker)\n",
    "data = {}\n",
    "data['minDistance'] = 0  # Update this Value\n",
    "json_data = json.dumps(data)\n",
    "client.publish(\"skyscan/config/json\",json_data)"
   ]
  },
  {
   "cell_type": "markdown",
   "metadata": {},
   "source": [
    "## Maximum Altitude\n",
    "The maximum altitude that an aircraft can be at and still be tracked. Int value in Meters"
   ]
  },
  {
   "cell_type": "code",
   "execution_count": null,
   "metadata": {},
   "outputs": [],
   "source": [
    "client.connect(broker)\n",
    "data = {}\n",
    "data['maxAltitude'] = 0  # Update this Value\n",
    "json_data = json.dumps(data)\n",
    "client.publish(\"skyscan/config/json\",json_data)"
   ]
  },
  {
   "cell_type": "markdown",
   "metadata": {},
   "source": [
    "## Maximum Distance\n",
    "The maximum distance that an aircraft can from the camera and still be tracked. Int value in Meters"
   ]
  },
  {
   "cell_type": "code",
   "execution_count": null,
   "metadata": {},
   "outputs": [],
   "source": [
    "client.connect(broker)\n",
    "data = {}\n",
    "data['maxDistance'] = 0  # Update this Value\n",
    "json_data = json.dumps(data)\n",
    "client.publish(\"skyscan/config/json\",json_data)"
   ]
  }
 ],
 "metadata": {
  "kernelspec": {
   "display_name": "Python 3.8.5 64-bit ('tinyml': conda)",
   "name": "python385jvsc74a57bd064065cc917a2354f02e26dd1b65d7c93af3dc848180e46cdb05a49f40c8c24c8"
  },
  "language_info": {
   "codemirror_mode": {
    "name": "ipython",
    "version": 3
   },
   "file_extension": ".py",
   "mimetype": "text/x-python",
   "name": "python",
   "nbconvert_exporter": "python",
   "pygments_lexer": "ipython3",
   "version": "3.7.3"
  }
 },
 "nbformat": 4,
 "nbformat_minor": 4
}
